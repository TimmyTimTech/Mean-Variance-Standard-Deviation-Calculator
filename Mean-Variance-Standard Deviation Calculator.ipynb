{
 "cells": [
  {
   "cell_type": "code",
   "execution_count": 1,
   "id": "534541dc",
   "metadata": {},
   "outputs": [],
   "source": [
    "import numpy as np"
   ]
  },
  {
   "cell_type": "markdown",
   "id": "2a7c0260",
   "metadata": {},
   "source": [
    "### function to perform the calculations"
   ]
  },
  {
   "cell_type": "code",
   "execution_count": 6,
   "id": "f93a6e63",
   "metadata": {},
   "outputs": [],
   "source": [
    "def calculator(values):\n",
    "    #if list doesnt contain 9 numbers is should raise a error.\n",
    "    if len(values) != 9:\n",
    "        raise ValueError('List must contain nine numbers')\n",
    "    else:\n",
    "        #Initialize a array and reshape it's dimensions to a 3*3 shape\n",
    "        arr = np.array(values).reshape(3,3)\n",
    "        \n",
    "        #initialize a empty dictionary that will be have the returned values\n",
    "        results = {}\n",
    "        \n",
    "        #to interate over each of the listed numpy functions\n",
    "        for func in [np.mean, np.var, np.std, np.max, np.min, np.sum]:\n",
    "            results[func.__name__] = [func(arr, axis=0).tolist(), func(arr, axis=1).tolist(), func(arr).tolist()]\n",
    "        \n",
    "        return results"
   ]
  },
  {
   "cell_type": "code",
   "execution_count": 10,
   "id": "2fd9cec1",
   "metadata": {},
   "outputs": [
    {
     "name": "stdout",
     "output_type": "stream",
     "text": [
      "{'mean': [[3.0, 4.0, 5.0], [1.0, 4.0, 7.0], 4.0], 'var': [[6.0, 6.0, 6.0], [0.6666666666666666, 0.6666666666666666, 0.6666666666666666], 6.666666666666667], 'std': [[2.449489742783178, 2.449489742783178, 2.449489742783178], [0.816496580927726, 0.816496580927726, 0.816496580927726], 2.581988897471611], 'amax': [[6, 7, 8], [2, 5, 8], 8], 'amin': [[0, 1, 2], [0, 3, 6], 0], 'sum': [[9, 12, 15], [3, 12, 21], 36]}\n"
     ]
    }
   ],
   "source": [
    "print(calculator([0,1,2,3,4,5,6,7,8]))"
   ]
  },
  {
   "cell_type": "code",
   "execution_count": null,
   "id": "b7c0c207",
   "metadata": {},
   "outputs": [],
   "source": []
  }
 ],
 "metadata": {
  "kernelspec": {
   "display_name": "Python 3 (ipykernel)",
   "language": "python",
   "name": "python3"
  },
  "language_info": {
   "codemirror_mode": {
    "name": "ipython",
    "version": 3
   },
   "file_extension": ".py",
   "mimetype": "text/x-python",
   "name": "python",
   "nbconvert_exporter": "python",
   "pygments_lexer": "ipython3",
   "version": "3.11.5"
  }
 },
 "nbformat": 4,
 "nbformat_minor": 5
}
